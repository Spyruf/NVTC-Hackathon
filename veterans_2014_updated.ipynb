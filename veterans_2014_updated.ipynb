{
 "cells": [
  {
   "cell_type": "code",
   "execution_count": 1,
   "metadata": {
    "collapsed": false
   },
   "outputs": [],
   "source": [
    "import pandas as pd\n",
    "import os\n",
    "import numpy as np\n",
    "import matplotlib.pyplot as plt\n",
    "import plotly\n",
    "plotly.tools.set_credentials_file(username='paranyaj',api_key='RYp3Uubq9Tgbeogsz3jF')\n",
    "\n",
    "\n",
    "\n",
    "path = '/Users/BOWPJ/Desktop/NVTC'\n",
    "os.chdir(path)\n",
    "\n",
    "\n",
    "# Data from: https://catalog.data.gov/dataset/rural-veterans-by-state-e6abb\n",
    "rural_urban = pd.read_excel('Rural_Veterans_by_State_2014.xlsx')\n",
    "\n",
    "rural_urban = rural_urban[2:]\n",
    "rural_urban = rural_urban.reset_index()\n",
    "\n",
    "rural_urban.columns = ['state','vetpop_rural','vetpop_urban','perc_f_rural','perc_f_urban','unemp_vet_rural','unemp_vet_urban','bel_pov_inc_rural','bel_pov_inc_urban',\n",
    "                       'disabil_rate_rural','disabil_rate_urban','med_inc_rural','med_inc_urban',\n",
    "                       '18-34_rural','18-34_urban','35-54_rural','35-54_urban','55-64_rural','55-64_urban',\n",
    "                       '65-74_rural','65-74_urban','75+_rural','75+_urban','gulf2_rural','gulf2_urban',\n",
    "                       'gulf1_rural','gulf1_urban','vietnam_rural','vietnam_urban','korean_rural','korean_urban',\n",
    "                       'world2_rural','world2_urban','less_highschool_rural','less_highschool_urban','highschool_rural',\n",
    "                       'highschool_urban','some_college_rural','some_college_urban','bachelor_rural','bachelor_urban']\n",
    "                      \n",
    "\n",
    "rural_urban = rural_urban.replace('X',np.nan)\n",
    "rural_urban = rural_urban[:52]\n"
   ]
  },
  {
   "cell_type": "code",
   "execution_count": 2,
   "metadata": {
    "collapsed": false
   },
   "outputs": [
    {
     "data": {
      "text/html": [
       "<div>\n",
       "<style scoped>\n",
       "    .dataframe tbody tr th:only-of-type {\n",
       "        vertical-align: middle;\n",
       "    }\n",
       "\n",
       "    .dataframe tbody tr th {\n",
       "        vertical-align: top;\n",
       "    }\n",
       "\n",
       "    .dataframe thead th {\n",
       "        text-align: right;\n",
       "    }\n",
       "</style>\n",
       "<table border=\"1\" class=\"dataframe\">\n",
       "  <thead>\n",
       "    <tr style=\"text-align: right;\">\n",
       "      <th></th>\n",
       "      <th>state</th>\n",
       "      <th>vetpop_rural</th>\n",
       "      <th>vetpop_urban</th>\n",
       "      <th>perc_f_rural</th>\n",
       "      <th>perc_f_urban</th>\n",
       "      <th>unemp_vet_rural</th>\n",
       "      <th>unemp_vet_urban</th>\n",
       "      <th>bel_pov_inc_rural</th>\n",
       "      <th>bel_pov_inc_urban</th>\n",
       "      <th>disabil_rate_rural</th>\n",
       "      <th>...</th>\n",
       "      <th>world2_rural</th>\n",
       "      <th>world2_urban</th>\n",
       "      <th>less_highschool_rural</th>\n",
       "      <th>less_highschool_urban</th>\n",
       "      <th>highschool_rural</th>\n",
       "      <th>highschool_urban</th>\n",
       "      <th>some_college_rural</th>\n",
       "      <th>some_college_urban</th>\n",
       "      <th>bachelor_rural</th>\n",
       "      <th>bachelor_urban</th>\n",
       "    </tr>\n",
       "  </thead>\n",
       "  <tbody>\n",
       "    <tr>\n",
       "      <th>0</th>\n",
       "      <td>Alabama</td>\n",
       "      <td>142884.0</td>\n",
       "      <td>201420.0</td>\n",
       "      <td>7.6</td>\n",
       "      <td>9.0</td>\n",
       "      <td>4.0</td>\n",
       "      <td>6.5</td>\n",
       "      <td>8.5</td>\n",
       "      <td>8.8</td>\n",
       "      <td>36.0</td>\n",
       "      <td>...</td>\n",
       "      <td>3.4</td>\n",
       "      <td>4.7</td>\n",
       "      <td>10.1</td>\n",
       "      <td>5.3</td>\n",
       "      <td>35.2</td>\n",
       "      <td>24.6</td>\n",
       "      <td>37.1</td>\n",
       "      <td>39.0</td>\n",
       "      <td>17.6</td>\n",
       "      <td>31.1</td>\n",
       "    </tr>\n",
       "    <tr>\n",
       "      <th>1</th>\n",
       "      <td>Alaska</td>\n",
       "      <td>21470.0</td>\n",
       "      <td>48378.0</td>\n",
       "      <td>8.4</td>\n",
       "      <td>15.0</td>\n",
       "      <td>12.3</td>\n",
       "      <td>6.4</td>\n",
       "      <td>4.9</td>\n",
       "      <td>4.0</td>\n",
       "      <td>30.5</td>\n",
       "      <td>...</td>\n",
       "      <td>1.3</td>\n",
       "      <td>2.9</td>\n",
       "      <td>4.1</td>\n",
       "      <td>3.8</td>\n",
       "      <td>31.8</td>\n",
       "      <td>19.4</td>\n",
       "      <td>38.0</td>\n",
       "      <td>49.4</td>\n",
       "      <td>26.2</td>\n",
       "      <td>27.4</td>\n",
       "    </tr>\n",
       "    <tr>\n",
       "      <th>2</th>\n",
       "      <td>Arizona</td>\n",
       "      <td>62905.0</td>\n",
       "      <td>420121.0</td>\n",
       "      <td>7.0</td>\n",
       "      <td>8.3</td>\n",
       "      <td>5.3</td>\n",
       "      <td>7.0</td>\n",
       "      <td>8.4</td>\n",
       "      <td>7.4</td>\n",
       "      <td>34.4</td>\n",
       "      <td>...</td>\n",
       "      <td>4.1</td>\n",
       "      <td>5.8</td>\n",
       "      <td>6.2</td>\n",
       "      <td>5.2</td>\n",
       "      <td>23.2</td>\n",
       "      <td>22.1</td>\n",
       "      <td>43.2</td>\n",
       "      <td>42.8</td>\n",
       "      <td>27.4</td>\n",
       "      <td>29.9</td>\n",
       "    </tr>\n",
       "    <tr>\n",
       "      <th>3</th>\n",
       "      <td>Arkansas</td>\n",
       "      <td>101788.0</td>\n",
       "      <td>106098.0</td>\n",
       "      <td>6.3</td>\n",
       "      <td>9.6</td>\n",
       "      <td>4.2</td>\n",
       "      <td>7.6</td>\n",
       "      <td>9.1</td>\n",
       "      <td>8.1</td>\n",
       "      <td>38.7</td>\n",
       "      <td>...</td>\n",
       "      <td>5.2</td>\n",
       "      <td>4.2</td>\n",
       "      <td>11.1</td>\n",
       "      <td>7.2</td>\n",
       "      <td>38.6</td>\n",
       "      <td>28.7</td>\n",
       "      <td>36.1</td>\n",
       "      <td>37.2</td>\n",
       "      <td>14.2</td>\n",
       "      <td>26.9</td>\n",
       "    </tr>\n",
       "    <tr>\n",
       "      <th>4</th>\n",
       "      <td>California</td>\n",
       "      <td>142266.0</td>\n",
       "      <td>1551336.0</td>\n",
       "      <td>5.4</td>\n",
       "      <td>7.7</td>\n",
       "      <td>8.6</td>\n",
       "      <td>7.8</td>\n",
       "      <td>8.8</td>\n",
       "      <td>7.6</td>\n",
       "      <td>32.9</td>\n",
       "      <td>...</td>\n",
       "      <td>6.4</td>\n",
       "      <td>6.7</td>\n",
       "      <td>5.9</td>\n",
       "      <td>5.8</td>\n",
       "      <td>24.3</td>\n",
       "      <td>19.5</td>\n",
       "      <td>42.5</td>\n",
       "      <td>42.0</td>\n",
       "      <td>27.3</td>\n",
       "      <td>32.7</td>\n",
       "    </tr>\n",
       "  </tbody>\n",
       "</table>\n",
       "<p>5 rows × 41 columns</p>\n",
       "</div>"
      ],
      "text/plain": [
       "        state  vetpop_rural  vetpop_urban  perc_f_rural  perc_f_urban  \\\n",
       "0     Alabama      142884.0      201420.0           7.6           9.0   \n",
       "1      Alaska       21470.0       48378.0           8.4          15.0   \n",
       "2     Arizona       62905.0      420121.0           7.0           8.3   \n",
       "3    Arkansas      101788.0      106098.0           6.3           9.6   \n",
       "4  California      142266.0     1551336.0           5.4           7.7   \n",
       "\n",
       "   unemp_vet_rural  unemp_vet_urban  bel_pov_inc_rural  bel_pov_inc_urban  \\\n",
       "0              4.0              6.5                8.5                8.8   \n",
       "1             12.3              6.4                4.9                4.0   \n",
       "2              5.3              7.0                8.4                7.4   \n",
       "3              4.2              7.6                9.1                8.1   \n",
       "4              8.6              7.8                8.8                7.6   \n",
       "\n",
       "   disabil_rate_rural       ...        world2_rural  world2_urban  \\\n",
       "0                36.0       ...                 3.4           4.7   \n",
       "1                30.5       ...                 1.3           2.9   \n",
       "2                34.4       ...                 4.1           5.8   \n",
       "3                38.7       ...                 5.2           4.2   \n",
       "4                32.9       ...                 6.4           6.7   \n",
       "\n",
       "   less_highschool_rural  less_highschool_urban  highschool_rural  \\\n",
       "0                   10.1                    5.3              35.2   \n",
       "1                    4.1                    3.8              31.8   \n",
       "2                    6.2                    5.2              23.2   \n",
       "3                   11.1                    7.2              38.6   \n",
       "4                    5.9                    5.8              24.3   \n",
       "\n",
       "   highschool_urban  some_college_rural  some_college_urban  bachelor_rural  \\\n",
       "0              24.6                37.1                39.0            17.6   \n",
       "1              19.4                38.0                49.4            26.2   \n",
       "2              22.1                43.2                42.8            27.4   \n",
       "3              28.7                36.1                37.2            14.2   \n",
       "4              19.5                42.5                42.0            27.3   \n",
       "\n",
       "   bachelor_urban  \n",
       "0            31.1  \n",
       "1            27.4  \n",
       "2            29.9  \n",
       "3            26.9  \n",
       "4            32.7  \n",
       "\n",
       "[5 rows x 41 columns]"
      ]
     },
     "execution_count": 2,
     "metadata": {},
     "output_type": "execute_result"
    }
   ],
   "source": [
    "rural_urban.head()"
   ]
  },
  {
   "cell_type": "markdown",
   "metadata": {},
   "source": [
    "# Characteristics (%) of veterans in each state"
   ]
  },
  {
   "cell_type": "code",
   "execution_count": 3,
   "metadata": {
    "collapsed": false,
    "scrolled": true
   },
   "outputs": [
    {
     "data": {
      "text/html": [
       "<div>\n",
       "<style scoped>\n",
       "    .dataframe tbody tr th:only-of-type {\n",
       "        vertical-align: middle;\n",
       "    }\n",
       "\n",
       "    .dataframe tbody tr th {\n",
       "        vertical-align: top;\n",
       "    }\n",
       "\n",
       "    .dataframe thead th {\n",
       "        text-align: right;\n",
       "    }\n",
       "</style>\n",
       "<table border=\"1\" class=\"dataframe\">\n",
       "  <thead>\n",
       "    <tr style=\"text-align: right;\">\n",
       "      <th></th>\n",
       "      <th>state</th>\n",
       "      <th>total_vet_pop</th>\n",
       "      <th>female</th>\n",
       "      <th>med_inc</th>\n",
       "      <th>gulf2</th>\n",
       "      <th>gulf1</th>\n",
       "      <th>vietnam</th>\n",
       "      <th>korean</th>\n",
       "      <th>world2</th>\n",
       "      <th>peace</th>\n",
       "      <th>...</th>\n",
       "      <th>-10k</th>\n",
       "      <th>10k-14.9k</th>\n",
       "      <th>15k-24.9k</th>\n",
       "      <th>25k-34.9k</th>\n",
       "      <th>35k-49.9k</th>\n",
       "      <th>50k-74.9</th>\n",
       "      <th>75k-99.9k</th>\n",
       "      <th>100k-149.9k</th>\n",
       "      <th>150k-199.9k</th>\n",
       "      <th>200k+</th>\n",
       "    </tr>\n",
       "  </thead>\n",
       "  <tbody>\n",
       "    <tr>\n",
       "      <th>0</th>\n",
       "      <td>Alabama</td>\n",
       "      <td>388865</td>\n",
       "      <td>7.6911</td>\n",
       "      <td>57935</td>\n",
       "      <td>13.4</td>\n",
       "      <td>14.6</td>\n",
       "      <td>33.6</td>\n",
       "      <td>8.9</td>\n",
       "      <td>5.7</td>\n",
       "      <td>23.8</td>\n",
       "      <td>...</td>\n",
       "      <td>3.5</td>\n",
       "      <td>3.6</td>\n",
       "      <td>8.9</td>\n",
       "      <td>10.7</td>\n",
       "      <td>15.8</td>\n",
       "      <td>21</td>\n",
       "      <td>14.3</td>\n",
       "      <td>14</td>\n",
       "      <td>4.7</td>\n",
       "      <td>3.6</td>\n",
       "    </tr>\n",
       "    <tr>\n",
       "      <th>1</th>\n",
       "      <td>Alaska</td>\n",
       "      <td>71004</td>\n",
       "      <td>12.7106</td>\n",
       "      <td>85518</td>\n",
       "      <td>24.2</td>\n",
       "      <td>17.8</td>\n",
       "      <td>30.8</td>\n",
       "      <td>4.2</td>\n",
       "      <td>2.5</td>\n",
       "      <td>20.5</td>\n",
       "      <td>...</td>\n",
       "      <td>1.7</td>\n",
       "      <td>2.4</td>\n",
       "      <td>4.6</td>\n",
       "      <td>5.8</td>\n",
       "      <td>10.1</td>\n",
       "      <td>17.7</td>\n",
       "      <td>16.8</td>\n",
       "      <td>22.8</td>\n",
       "      <td>11</td>\n",
       "      <td>7.1</td>\n",
       "    </tr>\n",
       "    <tr>\n",
       "      <th>2</th>\n",
       "      <td>Arizona</td>\n",
       "      <td>522382</td>\n",
       "      <td>7.69207</td>\n",
       "      <td>60197</td>\n",
       "      <td>11.5</td>\n",
       "      <td>12.1</td>\n",
       "      <td>33.6</td>\n",
       "      <td>11</td>\n",
       "      <td>7.3</td>\n",
       "      <td>24.5</td>\n",
       "      <td>...</td>\n",
       "      <td>3.36</td>\n",
       "      <td>3.03</td>\n",
       "      <td>8.2</td>\n",
       "      <td>10.07</td>\n",
       "      <td>15.44</td>\n",
       "      <td>21.44</td>\n",
       "      <td>14.47</td>\n",
       "      <td>15</td>\n",
       "      <td>5.15</td>\n",
       "      <td>3.83</td>\n",
       "    </tr>\n",
       "    <tr>\n",
       "      <th>3</th>\n",
       "      <td>Arkansas</td>\n",
       "      <td>237311</td>\n",
       "      <td>7.13915</td>\n",
       "      <td>50669</td>\n",
       "      <td>11.8</td>\n",
       "      <td>12.8</td>\n",
       "      <td>34.5</td>\n",
       "      <td>9.7</td>\n",
       "      <td>6.2</td>\n",
       "      <td>25</td>\n",
       "      <td>...</td>\n",
       "      <td>4.02</td>\n",
       "      <td>4.36</td>\n",
       "      <td>11.12</td>\n",
       "      <td>12.29</td>\n",
       "      <td>17.43</td>\n",
       "      <td>22.2</td>\n",
       "      <td>12.55</td>\n",
       "      <td>10.94</td>\n",
       "      <td>2.93</td>\n",
       "      <td>2.16</td>\n",
       "    </tr>\n",
       "    <tr>\n",
       "      <th>4</th>\n",
       "      <td>California</td>\n",
       "      <td>1893539</td>\n",
       "      <td>6.85257</td>\n",
       "      <td>73722</td>\n",
       "      <td>11.4</td>\n",
       "      <td>10.7</td>\n",
       "      <td>33.9</td>\n",
       "      <td>10.8</td>\n",
       "      <td>8.5</td>\n",
       "      <td>24.7</td>\n",
       "      <td>...</td>\n",
       "      <td>2.61</td>\n",
       "      <td>2.94</td>\n",
       "      <td>6.61</td>\n",
       "      <td>7.91</td>\n",
       "      <td>12.1</td>\n",
       "      <td>18.69</td>\n",
       "      <td>14.58</td>\n",
       "      <td>18.64</td>\n",
       "      <td>8.3</td>\n",
       "      <td>7.61</td>\n",
       "    </tr>\n",
       "  </tbody>\n",
       "</table>\n",
       "<p>5 rows × 30 columns</p>\n",
       "</div>"
      ],
      "text/plain": [
       "        state total_vet_pop   female med_inc gulf2 gulf1 vietnam korean  \\\n",
       "0     Alabama        388865   7.6911   57935  13.4  14.6    33.6    8.9   \n",
       "1      Alaska         71004  12.7106   85518  24.2  17.8    30.8    4.2   \n",
       "2     Arizona        522382  7.69207   60197  11.5  12.1    33.6     11   \n",
       "3    Arkansas        237311  7.13915   50669  11.8  12.8    34.5    9.7   \n",
       "4  California       1893539  6.85257   73722  11.4  10.7    33.9   10.8   \n",
       "\n",
       "  world2 peace  ...   -10k 10k-14.9k 15k-24.9k 25k-34.9k 35k-49.9k 50k-74.9  \\\n",
       "0    5.7  23.8  ...    3.5       3.6       8.9      10.7      15.8       21   \n",
       "1    2.5  20.5  ...    1.7       2.4       4.6       5.8      10.1     17.7   \n",
       "2    7.3  24.5  ...   3.36      3.03       8.2     10.07     15.44    21.44   \n",
       "3    6.2    25  ...   4.02      4.36     11.12     12.29     17.43     22.2   \n",
       "4    8.5  24.7  ...   2.61      2.94      6.61      7.91      12.1    18.69   \n",
       "\n",
       "  75k-99.9k 100k-149.9k 150k-199.9k 200k+  \n",
       "0      14.3          14         4.7   3.6  \n",
       "1      16.8        22.8          11   7.1  \n",
       "2     14.47          15        5.15  3.83  \n",
       "3     12.55       10.94        2.93  2.16  \n",
       "4     14.58       18.64         8.3  7.61  \n",
       "\n",
       "[5 rows x 30 columns]"
      ]
     },
     "execution_count": 3,
     "metadata": {},
     "output_type": "execute_result"
    }
   ],
   "source": [
    "# 2014 data from: https://www.census.gov/library/visualizations/2015/comm/veterans-statistics.html\n",
    "characteristics = pd.read_excel('vet-state-characteristics.xlsx')\n",
    "characteristics = characteristics.dropna(axis=1,thresh=20)\n",
    "characteristics.columns = ['state','total_vet_pop','female','med_inc','gulf2','gulf1','vietnam','korean','world2','peace','bachelor','enrolled',\n",
    "                          'uninsured','disabil','VA','18-29','30-44','45-54','55-64','65+','-10k','10k-14.9k','15k-24.9k','25k-34.9k',\n",
    "                          '35k-49.9k','50k-74.9','75k-99.9k','100k-149.9k','150k-199.9k','200k+']\n",
    "\n",
    "characteristics = characteristics.iloc[2:55]\n",
    "characteristics = characteristics.iloc[1:]\n",
    "characteristics.index = range(0,len(characteristics))\n",
    "characteristics.head()\n"
   ]
  },
  {
   "cell_type": "code",
   "execution_count": 4,
   "metadata": {
    "collapsed": false,
    "scrolled": true
   },
   "outputs": [
    {
     "data": {
      "text/html": [
       "<div>\n",
       "<style scoped>\n",
       "    .dataframe tbody tr th:only-of-type {\n",
       "        vertical-align: middle;\n",
       "    }\n",
       "\n",
       "    .dataframe tbody tr th {\n",
       "        vertical-align: top;\n",
       "    }\n",
       "\n",
       "    .dataframe thead th {\n",
       "        text-align: right;\n",
       "    }\n",
       "</style>\n",
       "<table border=\"1\" class=\"dataframe\">\n",
       "  <thead>\n",
       "    <tr style=\"text-align: right;\">\n",
       "      <th></th>\n",
       "      <th>state</th>\n",
       "      <th>total_vet</th>\n",
       "      <th>total_all</th>\n",
       "      <th>18-34_vet</th>\n",
       "      <th>18-34_all</th>\n",
       "      <th>35-54_vet</th>\n",
       "      <th>35-54_all</th>\n",
       "      <th>55-74_vet</th>\n",
       "      <th>55-74_all</th>\n",
       "      <th>75+_vet</th>\n",
       "      <th>75+_all</th>\n",
       "    </tr>\n",
       "  </thead>\n",
       "  <tbody>\n",
       "    <tr>\n",
       "      <th>0</th>\n",
       "      <td>Alabama</td>\n",
       "      <td>37.8</td>\n",
       "      <td>18.8</td>\n",
       "      <td>86.1</td>\n",
       "      <td>16.1</td>\n",
       "      <td>45.7</td>\n",
       "      <td>22.3</td>\n",
       "      <td>29.3</td>\n",
       "      <td>18.0</td>\n",
       "      <td>28.7</td>\n",
       "      <td>16.7</td>\n",
       "    </tr>\n",
       "    <tr>\n",
       "      <th>1</th>\n",
       "      <td>Alaska</td>\n",
       "      <td>54.4</td>\n",
       "      <td>30.0</td>\n",
       "      <td>101.7</td>\n",
       "      <td>41.2</td>\n",
       "      <td>56.7</td>\n",
       "      <td>28.4</td>\n",
       "      <td>NaN</td>\n",
       "      <td>NaN</td>\n",
       "      <td>NaN</td>\n",
       "      <td>NaN</td>\n",
       "    </tr>\n",
       "    <tr>\n",
       "      <th>2</th>\n",
       "      <td>Arizona</td>\n",
       "      <td>53.6</td>\n",
       "      <td>23.7</td>\n",
       "      <td>76.8</td>\n",
       "      <td>19.7</td>\n",
       "      <td>74.5</td>\n",
       "      <td>24.9</td>\n",
       "      <td>42.4</td>\n",
       "      <td>25.9</td>\n",
       "      <td>48.3</td>\n",
       "      <td>25.9</td>\n",
       "    </tr>\n",
       "    <tr>\n",
       "      <th>3</th>\n",
       "      <td>Arkansas</td>\n",
       "      <td>48.1</td>\n",
       "      <td>22.0</td>\n",
       "      <td>116.4</td>\n",
       "      <td>20.1</td>\n",
       "      <td>50.9</td>\n",
       "      <td>25.6</td>\n",
       "      <td>40.5</td>\n",
       "      <td>21.6</td>\n",
       "      <td>35.4</td>\n",
       "      <td>15.8</td>\n",
       "    </tr>\n",
       "    <tr>\n",
       "      <th>4</th>\n",
       "      <td>California</td>\n",
       "      <td>39.1</td>\n",
       "      <td>14.0</td>\n",
       "      <td>47.1</td>\n",
       "      <td>10.0</td>\n",
       "      <td>45.0</td>\n",
       "      <td>14.3</td>\n",
       "      <td>32.3</td>\n",
       "      <td>16.5</td>\n",
       "      <td>42.3</td>\n",
       "      <td>21.6</td>\n",
       "    </tr>\n",
       "  </tbody>\n",
       "</table>\n",
       "</div>"
      ],
      "text/plain": [
       "        state  total_vet  total_all  18-34_vet  18-34_all  35-54_vet  \\\n",
       "0     Alabama       37.8       18.8       86.1       16.1       45.7   \n",
       "1      Alaska       54.4       30.0      101.7       41.2       56.7   \n",
       "2     Arizona       53.6       23.7       76.8       19.7       74.5   \n",
       "3    Arkansas       48.1       22.0      116.4       20.1       50.9   \n",
       "4  California       39.1       14.0       47.1       10.0       45.0   \n",
       "\n",
       "   35-54_all  55-74_vet  55-74_all  75+_vet  75+_all  \n",
       "0       22.3       29.3       18.0     28.7     16.7  \n",
       "1       28.4        NaN        NaN      NaN      NaN  \n",
       "2       24.9       42.4       25.9     48.3     25.9  \n",
       "3       25.6       40.5       21.6     35.4     15.8  \n",
       "4       14.3       32.3       16.5     42.3     21.6  "
      ]
     },
     "execution_count": 4,
     "metadata": {},
     "output_type": "execute_result"
    }
   ],
   "source": [
    "suicide_rate = pd.read_excel('suicide_rate.xlsx')\n",
    "suicide_rate.head()"
   ]
  },
  {
   "cell_type": "code",
   "execution_count": 5,
   "metadata": {
    "collapsed": false
   },
   "outputs": [
    {
     "data": {
      "text/html": [
       "<iframe id=\"igraph\" scrolling=\"no\" style=\"border:none;\" seamless=\"seamless\" src=\"https://plot.ly/~paranyaj/26.embed\" height=\"525px\" width=\"100%\"></iframe>"
      ],
      "text/plain": [
       "<plotly.tools.PlotlyDisplay object>"
      ]
     },
     "execution_count": 5,
     "metadata": {},
     "output_type": "execute_result"
    }
   ],
   "source": [
    "import plotly.plotly as py\n",
    "import plotly.graph_objs as go\n",
    "import plotly\n",
    "plotly.tools.set_credentials_file(username='paranyaj',api_key='RYp3Uubq9Tgbeogsz3jF')\n",
    "gender_suicide = pd.read_excel('gender_vet_suicide.xlsx')\n",
    "\n",
    "male = go.Scatter(x=gender_suicide['Year'],y=gender_suicide['Male'],mode='lines+markers',name='Male',\n",
    "                 line=dict(color='blue'))\n",
    "female = go.Scatter(x=gender_suicide['Year'],y=gender_suicide['Female'],\n",
    "                    mode='lines+markers',name='Female',line=dict(\n",
    "    color='rgba(231, 84,128 , .8)'))\n",
    "total = go.Scatter(x=gender_suicide['Year'],y=gender_suicide['Total'],mode='lines+markers',name='Total',\n",
    "                  line=dict(color='green'))\n",
    "data = [male,female,total]\n",
    "layout = dict(title='Veteran Suicide Rate From 2001 to 2014',\n",
    "             yaxis=dict(title='Suicide Rate'),\n",
    "             xaxis = dict(title='Year'))\n",
    "fig = dict(data=data,layout=layout)\n",
    "py.iplot(fig,file='gender_suicide')\n"
   ]
  },
  {
   "cell_type": "markdown",
   "metadata": {},
   "source": [
    "## Characteristics + crude suicide rate for each state"
   ]
  },
  {
   "cell_type": "code",
   "execution_count": 8,
   "metadata": {
    "collapsed": false
   },
   "outputs": [],
   "source": [
    "import plotly.figure_factory as ff\n",
    "# Adding suicide rate to characteristics data frame\n",
    "characteristics['suicide_rate'] = suicide_rate['total_vet']"
   ]
  },
  {
   "cell_type": "markdown",
   "metadata": {},
   "source": [
    "### Correlation between each characteristic and crude suicide rate"
   ]
  },
  {
   "cell_type": "code",
   "execution_count": 9,
   "metadata": {
    "collapsed": false,
    "scrolled": false
   },
   "outputs": [
    {
     "data": {
      "text/plain": [
       "suicide_rate     1.000000\n",
       "uninsured        0.572600\n",
       "50k-74.9         0.516602\n",
       "55-64            0.516001\n",
       "vietnam          0.460681\n",
       "VA               0.395031\n",
       "gulf1            0.363383\n",
       "disabil          0.357463\n",
       "30-44            0.332506\n",
       "35k-49.9k        0.265868\n",
       "18-29            0.251435\n",
       "75k-99.9k        0.194078\n",
       "female           0.153577\n",
       "gulf2            0.148778\n",
       "enrolled         0.148345\n",
       "25k-34.9k        0.144697\n",
       "45-54            0.055993\n",
       "15k-24.9k        0.016018\n",
       "10k-14.9k        0.015760\n",
       "-10k            -0.057223\n",
       "100k-149.9k     -0.163146\n",
       "bachelor        -0.205426\n",
       "med_inc         -0.208567\n",
       "total_vet_pop   -0.266475\n",
       "150k-199.9k     -0.276720\n",
       "peace           -0.285262\n",
       "world2          -0.355355\n",
       "65+             -0.365545\n",
       "200k+           -0.384025\n",
       "korean          -0.407222\n",
       "Name: suicide_rate, dtype: float64"
      ]
     },
     "execution_count": 9,
     "metadata": {},
     "output_type": "execute_result"
    }
   ],
   "source": [
    "cols = characteristics.columns.drop('state')\n",
    "characteristics[cols] = characteristics[cols].apply(pd.to_numeric, errors='coerce')\n",
    "characteristics_nostate = characteristics.drop('state',axis=1)\n",
    "characteristics_nostate.corr()['suicide_rate'].sort_values(ascending=False)"
   ]
  },
  {
   "cell_type": "markdown",
   "metadata": {
    "collapsed": true
   },
   "source": [
    "## Plotting Uninsured vs. Suicide Rate"
   ]
  },
  {
   "cell_type": "code",
   "execution_count": 10,
   "metadata": {
    "collapsed": false
   },
   "outputs": [
    {
     "name": "stdout",
     "output_type": "stream",
     "text": [
      "High five! You successfully sent some data to your account on plotly. View your plot in your browser at https://plot.ly/~paranyaj/0 or inside your plot.ly account where it is named 'uninsured'\n"
     ]
    },
    {
     "data": {
      "text/html": [
       "<iframe id=\"igraph\" scrolling=\"no\" style=\"border:none;\" seamless=\"seamless\" src=\"https://plot.ly/~paranyaj/0.embed\" height=\"525px\" width=\"100%\"></iframe>"
      ],
      "text/plain": [
       "<plotly.tools.PlotlyDisplay object>"
      ]
     },
     "execution_count": 10,
     "metadata": {},
     "output_type": "execute_result"
    }
   ],
   "source": [
    "%matplotlib inline\n",
    "import pylab\n",
    "\n",
    "uninsured_scatter = go.Scatter(x=characteristics['uninsured'],\n",
    "          y = characteristics['suicide_rate'],\n",
    "                               text = characteristics['state'],\n",
    "          mode = 'markers',\n",
    "          marker = dict(size=10,color='blue',line=dict(width=2,color='black')))\n",
    "\n",
    "\n",
    "layout = dict(title='Percentage of Uninsured Veterans vs. Suicide Rate',\n",
    "             yaxis=dict(title='Crude Suicide Rate'),\n",
    "             xaxis = dict(title='Percentage of Uninsured Veterans'))\n",
    "fig = dict(data=[uninsured_scatter],layout=layout)\n",
    "py.iplot(fig, filename='uninsured')\n"
   ]
  },
  {
   "cell_type": "markdown",
   "metadata": {},
   "source": [
    "Notice: percentage of uninsured veterans is most highly correlated with suicide rate."
   ]
  },
  {
   "cell_type": "markdown",
   "metadata": {},
   "source": [
    "### Do states with more percentage of veterans in rural areas have more suicides?"
   ]
  },
  {
   "cell_type": "code",
   "execution_count": 11,
   "metadata": {
    "collapsed": false
   },
   "outputs": [
    {
     "data": {
      "text/html": [
       "<div>\n",
       "<style scoped>\n",
       "    .dataframe tbody tr th:only-of-type {\n",
       "        vertical-align: middle;\n",
       "    }\n",
       "\n",
       "    .dataframe tbody tr th {\n",
       "        vertical-align: top;\n",
       "    }\n",
       "\n",
       "    .dataframe thead th {\n",
       "        text-align: right;\n",
       "    }\n",
       "</style>\n",
       "<table border=\"1\" class=\"dataframe\">\n",
       "  <thead>\n",
       "    <tr style=\"text-align: right;\">\n",
       "      <th></th>\n",
       "      <th>state</th>\n",
       "      <th>suicide_rate</th>\n",
       "      <th>percent_rural</th>\n",
       "      <th>percent_urban</th>\n",
       "    </tr>\n",
       "  </thead>\n",
       "  <tbody>\n",
       "    <tr>\n",
       "      <th>47</th>\n",
       "      <td>Washington</td>\n",
       "      <td>39.2</td>\n",
       "      <td>0.190302</td>\n",
       "      <td>0.769562</td>\n",
       "    </tr>\n",
       "    <tr>\n",
       "      <th>48</th>\n",
       "      <td>West Virginia</td>\n",
       "      <td>49.0</td>\n",
       "      <td>0.457315</td>\n",
       "      <td>0.425449</td>\n",
       "    </tr>\n",
       "    <tr>\n",
       "      <th>49</th>\n",
       "      <td>Wisconsin</td>\n",
       "      <td>36.1</td>\n",
       "      <td>0.313339</td>\n",
       "      <td>0.587390</td>\n",
       "    </tr>\n",
       "    <tr>\n",
       "      <th>50</th>\n",
       "      <td>Wyoming</td>\n",
       "      <td>55.0</td>\n",
       "      <td>0.324392</td>\n",
       "      <td>0.568788</td>\n",
       "    </tr>\n",
       "    <tr>\n",
       "      <th>51</th>\n",
       "      <td>Puerto Rico</td>\n",
       "      <td>14.8</td>\n",
       "      <td>0.036117</td>\n",
       "      <td>0.811194</td>\n",
       "    </tr>\n",
       "  </tbody>\n",
       "</table>\n",
       "</div>"
      ],
      "text/plain": [
       "            state  suicide_rate  percent_rural  percent_urban\n",
       "47     Washington          39.2       0.190302       0.769562\n",
       "48  West Virginia          49.0       0.457315       0.425449\n",
       "49      Wisconsin          36.1       0.313339       0.587390\n",
       "50        Wyoming          55.0       0.324392       0.568788\n",
       "51    Puerto Rico          14.8       0.036117       0.811194"
      ]
     },
     "execution_count": 11,
     "metadata": {},
     "output_type": "execute_result"
    }
   ],
   "source": [
    "cols = characteristics.columns.drop('state')\n",
    "characteristics[cols] = characteristics[cols].apply(pd.to_numeric, errors='coerce')\n",
    "\n",
    "rate_rural_urban = pd.DataFrame({'state':rural_urban['state'],'suicide_rate':suicide_rate['total_vet']})\n",
    "rate_rural_urban['percent_rural'] = rural_urban['vetpop_rural']/characteristics['total_vet_pop']\n",
    "rate_rural_urban['percent_urban'] = rural_urban['vetpop_urban']/characteristics['total_vet_pop']\n",
    "rate_rural_urban[['suicide_rate','percent_rural','percent_urban']].corr()\n",
    "rate_rural_urban.tail()\n",
    "\n"
   ]
  },
  {
   "cell_type": "markdown",
   "metadata": {},
   "source": []
  },
  {
   "cell_type": "markdown",
   "metadata": {},
   "source": [
    "### Which states have the highest percentage of veterans in rural areas?"
   ]
  },
  {
   "cell_type": "code",
   "execution_count": 12,
   "metadata": {
    "collapsed": false,
    "scrolled": true
   },
   "outputs": [
    {
     "data": {
      "text/html": [
       "<div>\n",
       "<style scoped>\n",
       "    .dataframe tbody tr th:only-of-type {\n",
       "        vertical-align: middle;\n",
       "    }\n",
       "\n",
       "    .dataframe tbody tr th {\n",
       "        vertical-align: top;\n",
       "    }\n",
       "\n",
       "    .dataframe thead th {\n",
       "        text-align: right;\n",
       "    }\n",
       "</style>\n",
       "<table border=\"1\" class=\"dataframe\">\n",
       "  <thead>\n",
       "    <tr style=\"text-align: right;\">\n",
       "      <th></th>\n",
       "      <th>state</th>\n",
       "      <th>suicide_rate</th>\n",
       "      <th>percent_rural</th>\n",
       "      <th>percent_urban</th>\n",
       "    </tr>\n",
       "  </thead>\n",
       "  <tbody>\n",
       "    <tr>\n",
       "      <th>19</th>\n",
       "      <td>Maine</td>\n",
       "      <td>48.3</td>\n",
       "      <td>0.600006</td>\n",
       "      <td>0.298419</td>\n",
       "    </tr>\n",
       "    <tr>\n",
       "      <th>45</th>\n",
       "      <td>Vermont</td>\n",
       "      <td>54.9</td>\n",
       "      <td>0.573613</td>\n",
       "      <td>0.328752</td>\n",
       "    </tr>\n",
       "    <tr>\n",
       "      <th>48</th>\n",
       "      <td>West Virginia</td>\n",
       "      <td>49.0</td>\n",
       "      <td>0.457315</td>\n",
       "      <td>0.425449</td>\n",
       "    </tr>\n",
       "    <tr>\n",
       "      <th>26</th>\n",
       "      <td>Montana</td>\n",
       "      <td>68.6</td>\n",
       "      <td>0.433191</td>\n",
       "      <td>0.461855</td>\n",
       "    </tr>\n",
       "    <tr>\n",
       "      <th>24</th>\n",
       "      <td>Mississippi</td>\n",
       "      <td>42.4</td>\n",
       "      <td>0.429210</td>\n",
       "      <td>0.440039</td>\n",
       "    </tr>\n",
       "    <tr>\n",
       "      <th>3</th>\n",
       "      <td>Arkansas</td>\n",
       "      <td>48.1</td>\n",
       "      <td>0.428922</td>\n",
       "      <td>0.447084</td>\n",
       "    </tr>\n",
       "    <tr>\n",
       "      <th>41</th>\n",
       "      <td>South Dakota</td>\n",
       "      <td>47.9</td>\n",
       "      <td>0.423755</td>\n",
       "      <td>0.499043</td>\n",
       "    </tr>\n",
       "    <tr>\n",
       "      <th>34</th>\n",
       "      <td>North Dakota</td>\n",
       "      <td>45.8</td>\n",
       "      <td>0.391839</td>\n",
       "      <td>0.552251</td>\n",
       "    </tr>\n",
       "    <tr>\n",
       "      <th>29</th>\n",
       "      <td>New Hampshire</td>\n",
       "      <td>37.2</td>\n",
       "      <td>0.390425</td>\n",
       "      <td>0.492207</td>\n",
       "    </tr>\n",
       "    <tr>\n",
       "      <th>17</th>\n",
       "      <td>Kentucky</td>\n",
       "      <td>48.6</td>\n",
       "      <td>0.375279</td>\n",
       "      <td>0.521204</td>\n",
       "    </tr>\n",
       "  </tbody>\n",
       "</table>\n",
       "</div>"
      ],
      "text/plain": [
       "            state  suicide_rate  percent_rural  percent_urban\n",
       "19          Maine          48.3       0.600006       0.298419\n",
       "45        Vermont          54.9       0.573613       0.328752\n",
       "48  West Virginia          49.0       0.457315       0.425449\n",
       "26        Montana          68.6       0.433191       0.461855\n",
       "24    Mississippi          42.4       0.429210       0.440039\n",
       "3        Arkansas          48.1       0.428922       0.447084\n",
       "41   South Dakota          47.9       0.423755       0.499043\n",
       "34   North Dakota          45.8       0.391839       0.552251\n",
       "29  New Hampshire          37.2       0.390425       0.492207\n",
       "17       Kentucky          48.6       0.375279       0.521204"
      ]
     },
     "execution_count": 12,
     "metadata": {},
     "output_type": "execute_result"
    }
   ],
   "source": [
    "# Reminder than suicide_rate is crude rate (per 100,000 people)\n",
    "rate_rural_urban.sort_values(by='percent_rural',ascending=False).head(10)"
   ]
  },
  {
   "cell_type": "code",
   "execution_count": 13,
   "metadata": {
    "collapsed": false
   },
   "outputs": [
    {
     "data": {
      "text/html": [
       "<div>\n",
       "<style scoped>\n",
       "    .dataframe tbody tr th:only-of-type {\n",
       "        vertical-align: middle;\n",
       "    }\n",
       "\n",
       "    .dataframe tbody tr th {\n",
       "        vertical-align: top;\n",
       "    }\n",
       "\n",
       "    .dataframe thead th {\n",
       "        text-align: right;\n",
       "    }\n",
       "</style>\n",
       "<table border=\"1\" class=\"dataframe\">\n",
       "  <thead>\n",
       "    <tr style=\"text-align: right;\">\n",
       "      <th></th>\n",
       "      <th>state</th>\n",
       "      <th>suicide_rate</th>\n",
       "      <th>percent_rural</th>\n",
       "      <th>percent_urban</th>\n",
       "    </tr>\n",
       "  </thead>\n",
       "  <tbody>\n",
       "    <tr>\n",
       "      <th>26</th>\n",
       "      <td>Montana</td>\n",
       "      <td>68.6</td>\n",
       "      <td>0.433191</td>\n",
       "      <td>0.461855</td>\n",
       "    </tr>\n",
       "    <tr>\n",
       "      <th>44</th>\n",
       "      <td>Utah</td>\n",
       "      <td>62.4</td>\n",
       "      <td>0.099749</td>\n",
       "      <td>0.814072</td>\n",
       "    </tr>\n",
       "    <tr>\n",
       "      <th>31</th>\n",
       "      <td>New Mexico</td>\n",
       "      <td>59.8</td>\n",
       "      <td>0.206216</td>\n",
       "      <td>0.674155</td>\n",
       "    </tr>\n",
       "    <tr>\n",
       "      <th>28</th>\n",
       "      <td>Nevada</td>\n",
       "      <td>59.8</td>\n",
       "      <td>0.079672</td>\n",
       "      <td>0.857469</td>\n",
       "    </tr>\n",
       "    <tr>\n",
       "      <th>50</th>\n",
       "      <td>Wyoming</td>\n",
       "      <td>55.0</td>\n",
       "      <td>0.324392</td>\n",
       "      <td>0.568788</td>\n",
       "    </tr>\n",
       "    <tr>\n",
       "      <th>45</th>\n",
       "      <td>Vermont</td>\n",
       "      <td>54.9</td>\n",
       "      <td>0.573613</td>\n",
       "      <td>0.328752</td>\n",
       "    </tr>\n",
       "    <tr>\n",
       "      <th>1</th>\n",
       "      <td>Alaska</td>\n",
       "      <td>54.4</td>\n",
       "      <td>0.302377</td>\n",
       "      <td>0.681342</td>\n",
       "    </tr>\n",
       "    <tr>\n",
       "      <th>36</th>\n",
       "      <td>Oklahoma</td>\n",
       "      <td>53.8</td>\n",
       "      <td>0.327586</td>\n",
       "      <td>0.557861</td>\n",
       "    </tr>\n",
       "    <tr>\n",
       "      <th>2</th>\n",
       "      <td>Arizona</td>\n",
       "      <td>53.6</td>\n",
       "      <td>0.120420</td>\n",
       "      <td>0.804241</td>\n",
       "    </tr>\n",
       "    <tr>\n",
       "      <th>48</th>\n",
       "      <td>West Virginia</td>\n",
       "      <td>49.0</td>\n",
       "      <td>0.457315</td>\n",
       "      <td>0.425449</td>\n",
       "    </tr>\n",
       "  </tbody>\n",
       "</table>\n",
       "</div>"
      ],
      "text/plain": [
       "            state  suicide_rate  percent_rural  percent_urban\n",
       "26        Montana          68.6       0.433191       0.461855\n",
       "44           Utah          62.4       0.099749       0.814072\n",
       "31     New Mexico          59.8       0.206216       0.674155\n",
       "28         Nevada          59.8       0.079672       0.857469\n",
       "50        Wyoming          55.0       0.324392       0.568788\n",
       "45        Vermont          54.9       0.573613       0.328752\n",
       "1          Alaska          54.4       0.302377       0.681342\n",
       "36       Oklahoma          53.8       0.327586       0.557861\n",
       "2         Arizona          53.6       0.120420       0.804241\n",
       "48  West Virginia          49.0       0.457315       0.425449"
      ]
     },
     "execution_count": 13,
     "metadata": {},
     "output_type": "execute_result"
    }
   ],
   "source": [
    "rate_rural_urban.sort_values(by='suicide_rate',ascending=False).head(10)"
   ]
  },
  {
   "cell_type": "markdown",
   "metadata": {},
   "source": [
    "Notice: Montana has the highest suicide rate and one of the highest percentage of veterans in rural areas.\n",
    "2014 suicides in Montana:\n",
    "* Total suicides: 58\n",
    "* Age 18-34: < 10\n",
    "* Age 35-54: 21\n",
    "* Age 55-74: 10-20\n",
    "* Total Male: 50-60\n",
    "* Total Female: <10"
   ]
  },
  {
   "cell_type": "code",
   "execution_count": 14,
   "metadata": {
    "collapsed": false
   },
   "outputs": [
    {
     "data": {
      "text/html": [
       "<div>\n",
       "<style scoped>\n",
       "    .dataframe tbody tr th:only-of-type {\n",
       "        vertical-align: middle;\n",
       "    }\n",
       "\n",
       "    .dataframe tbody tr th {\n",
       "        vertical-align: top;\n",
       "    }\n",
       "\n",
       "    .dataframe thead th {\n",
       "        text-align: right;\n",
       "    }\n",
       "</style>\n",
       "<table border=\"1\" class=\"dataframe\">\n",
       "  <thead>\n",
       "    <tr style=\"text-align: right;\">\n",
       "      <th></th>\n",
       "      <th>state</th>\n",
       "      <th>suicide_rate</th>\n",
       "      <th>percent_rural</th>\n",
       "      <th>percent_urban</th>\n",
       "    </tr>\n",
       "  </thead>\n",
       "  <tbody>\n",
       "    <tr>\n",
       "      <th>8</th>\n",
       "      <td>District of Columbia</td>\n",
       "      <td>NaN</td>\n",
       "      <td>NaN</td>\n",
       "      <td>0.919233</td>\n",
       "    </tr>\n",
       "    <tr>\n",
       "      <th>11</th>\n",
       "      <td>Hawaii</td>\n",
       "      <td>30.0</td>\n",
       "      <td>0.070952</td>\n",
       "      <td>0.904595</td>\n",
       "    </tr>\n",
       "    <tr>\n",
       "      <th>28</th>\n",
       "      <td>Nevada</td>\n",
       "      <td>59.8</td>\n",
       "      <td>0.079672</td>\n",
       "      <td>0.857469</td>\n",
       "    </tr>\n",
       "    <tr>\n",
       "      <th>9</th>\n",
       "      <td>Florida</td>\n",
       "      <td>40.4</td>\n",
       "      <td>0.106930</td>\n",
       "      <td>0.824456</td>\n",
       "    </tr>\n",
       "    <tr>\n",
       "      <th>4</th>\n",
       "      <td>California</td>\n",
       "      <td>39.1</td>\n",
       "      <td>0.075132</td>\n",
       "      <td>0.819279</td>\n",
       "    </tr>\n",
       "    <tr>\n",
       "      <th>44</th>\n",
       "      <td>Utah</td>\n",
       "      <td>62.4</td>\n",
       "      <td>0.099749</td>\n",
       "      <td>0.814072</td>\n",
       "    </tr>\n",
       "    <tr>\n",
       "      <th>51</th>\n",
       "      <td>Puerto Rico</td>\n",
       "      <td>14.8</td>\n",
       "      <td>0.036117</td>\n",
       "      <td>0.811194</td>\n",
       "    </tr>\n",
       "    <tr>\n",
       "      <th>2</th>\n",
       "      <td>Arizona</td>\n",
       "      <td>53.6</td>\n",
       "      <td>0.120420</td>\n",
       "      <td>0.804241</td>\n",
       "    </tr>\n",
       "    <tr>\n",
       "      <th>39</th>\n",
       "      <td>Rhode Island</td>\n",
       "      <td>25.1</td>\n",
       "      <td>0.105960</td>\n",
       "      <td>0.796406</td>\n",
       "    </tr>\n",
       "    <tr>\n",
       "      <th>21</th>\n",
       "      <td>Massachusetts</td>\n",
       "      <td>21.6</td>\n",
       "      <td>0.094454</td>\n",
       "      <td>0.788602</td>\n",
       "    </tr>\n",
       "  </tbody>\n",
       "</table>\n",
       "</div>"
      ],
      "text/plain": [
       "                   state  suicide_rate  percent_rural  percent_urban\n",
       "8   District of Columbia           NaN            NaN       0.919233\n",
       "11                Hawaii          30.0       0.070952       0.904595\n",
       "28                Nevada          59.8       0.079672       0.857469\n",
       "9                Florida          40.4       0.106930       0.824456\n",
       "4             California          39.1       0.075132       0.819279\n",
       "44                  Utah          62.4       0.099749       0.814072\n",
       "51           Puerto Rico          14.8       0.036117       0.811194\n",
       "2                Arizona          53.6       0.120420       0.804241\n",
       "39          Rhode Island          25.1       0.105960       0.796406\n",
       "21         Massachusetts          21.6       0.094454       0.788602"
      ]
     },
     "execution_count": 14,
     "metadata": {},
     "output_type": "execute_result"
    }
   ],
   "source": [
    "rate_rural_urban.sort_values(by='percent_urban',ascending=False).head(10)"
   ]
  },
  {
   "cell_type": "markdown",
   "metadata": {},
   "source": [
    "Ranking (highest to lowest) for percentage of veterans living in urban areas."
   ]
  },
  {
   "cell_type": "code",
   "execution_count": 22,
   "metadata": {
    "collapsed": false
   },
   "outputs": [
    {
     "data": {
      "text/html": [
       "<iframe id=\"igraph\" scrolling=\"no\" style=\"border:none;\" seamless=\"seamless\" src=\"https://plot.ly/~paranyaj/2.embed\" height=\"525px\" width=\"100%\"></iframe>"
      ],
      "text/plain": [
       "<plotly.tools.PlotlyDisplay object>"
      ]
     },
     "execution_count": 22,
     "metadata": {},
     "output_type": "execute_result"
    }
   ],
   "source": [
    "%matplotlib inline\n",
    "import pylab\n",
    "\n",
    "rural_per = go.Scatter(x=rate_rural_urban['percent_rural'],\n",
    "          y = rate_rural_urban['suicide_rate'],\n",
    "          mode = 'markers',\n",
    "                       name = 'Rural',\n",
    "                       text=rate_rural_urban['state'],\n",
    "                       \n",
    "          marker = dict(size=10,color='red',line=dict(width=2,color='black')))\n",
    "urban_per = go.Scatter(x=rate_rural_urban['percent_urban'],\n",
    "                      y = rate_rural_urban['suicide_rate'],\n",
    "                       name = 'Urban',\n",
    "                       text=rate_rural_urban['state'],\n",
    "                      mode='markers',\n",
    "                      marker = dict(size=10,color='yellow',\n",
    "                                   line=dict(width=2,color='black')))\n",
    "data_area = [rural_per,urban_per]\n",
    "\n",
    "layout = dict(title='Percentage of Veterans in Rural and Urban Areas vs. Suicide Rate',\n",
    "             yaxis=dict(title='Suicide Rate'),\n",
    "             xaxis = dict(title='Percentage of Veterans'))\n",
    "fig = dict(data=data_area,layout=layout)\n",
    "py.iplot(fig, filename='rural_urban')\n"
   ]
  },
  {
   "cell_type": "markdown",
   "metadata": {},
   "source": [
    "### Looking at other characteristics of veterans in states (excluding rural/urban population)"
   ]
  },
  {
   "cell_type": "code",
   "execution_count": 16,
   "metadata": {
    "collapsed": false
   },
   "outputs": [
    {
     "data": {
      "text/plain": [
       "suicide_rate          1.000000\n",
       "some_college_urban    0.573722\n",
       "some_college_rural    0.446220\n",
       "disabil_rate_rural    0.403708\n",
       "55-64_rural           0.394350\n",
       "18-34_urban           0.378058\n",
       "gulf1_urban           0.334110\n",
       "35-54_urban           0.332889\n",
       "55-64_urban           0.331035\n",
       "perc_f_rural          0.320213\n",
       "Name: suicide_rate, dtype: float64"
      ]
     },
     "execution_count": 16,
     "metadata": {},
     "output_type": "execute_result"
    }
   ],
   "source": [
    "other_rural_char = rural_urban.drop(['vetpop_urban','vetpop_rural','state'],axis=1)\n",
    "other_rural_char['suicide_rate'] = suicide_rate['total_all']\n",
    "other_rural_char.corr()['suicide_rate'].sort_values(ascending=False).head(10)"
   ]
  },
  {
   "cell_type": "markdown",
   "metadata": {},
   "source": [
    "Correlation between suicide rate in each state for veterans and characteristics of veterans in each state."
   ]
  },
  {
   "cell_type": "markdown",
   "metadata": {},
   "source": [
    "### Compare percentage of veteran suicide to general population"
   ]
  },
  {
   "cell_type": "code",
   "execution_count": 17,
   "metadata": {
    "collapsed": false
   },
   "outputs": [
    {
     "data": {
      "text/plain": [
       "21.957142857142859"
      ]
     },
     "execution_count": 17,
     "metadata": {},
     "output_type": "execute_result"
    }
   ],
   "source": [
    "diff_all = []\n",
    "suicide_rate1 = suicide_rate.dropna(subset=['total_vet','18-34_vet','35-54_vet','55-74_vet','75+_vet'],axis=0)\n",
    "for index, row in suicide_rate1.iterrows():\n",
    "    if row['total_all'] > row['total_vet']:\n",
    "        print(row['state'])\n",
    "    diff = row['total_vet']-row['total_all']\n",
    "    diff_all.append(diff)\n",
    "np.mean(diff_all)\n"
   ]
  },
  {
   "cell_type": "markdown",
   "metadata": {},
   "source": [
    "On average (across all states), the suicide rates for veterans is 21.25% greater than the general population."
   ]
  },
  {
   "cell_type": "code",
   "execution_count": 61,
   "metadata": {
    "collapsed": false
   },
   "outputs": [
    {
     "name": "stdout",
     "output_type": "stream",
     "text": [
      "62.4914285714\n",
      "29.9285714286\n",
      "12.9942857143\n",
      "14.5914285714\n"
     ]
    }
   ],
   "source": [
    "diff_1 = []\n",
    "for index, row in suicide_rate1.iterrows():\n",
    "    diff = row['18-34_vet']-row['18-34_all']\n",
    "    diff_1.append(diff)\n",
    "\n",
    "diff_2 = []\n",
    "for index, row in suicide_rate1.iterrows():\n",
    "    diff = row['35-54_vet']-row['35-54_all']\n",
    "    diff_2.append(diff)\n",
    "    \n",
    "diff_3 = []\n",
    "for index, row in suicide_rate1.iterrows():\n",
    "    diff = row['55-74_vet']-row['55-74_all']\n",
    "    diff_3.append(diff)\n",
    "\n",
    "diff_4 = []\n",
    "for index, row in suicide_rate1.iterrows():\n",
    "    diff = row['75+_vet']-row['75+_all']\n",
    "    diff_4.append(diff)\n",
    "    \n",
    "print(np.mean(diff_1))\n",
    "print(np.mean(diff_2))\n",
    "print(np.mean(diff_3))\n",
    "print(np.mean(diff_4))"
   ]
  },
  {
   "cell_type": "markdown",
   "metadata": {},
   "source": [
    "Numbers above are the average difference in suicide rate for each age group across states."
   ]
  },
  {
   "cell_type": "markdown",
   "metadata": {},
   "source": [
    "### Comparing Suicide Methods between General/Veterans"
   ]
  },
  {
   "cell_type": "code",
   "execution_count": 35,
   "metadata": {
    "collapsed": false
   },
   "outputs": [
    {
     "data": {
      "text/html": [
       "<iframe id=\"igraph\" scrolling=\"no\" style=\"border:none;\" seamless=\"seamless\" src=\"https://plot.ly/~paranyaj/30.embed\" height=\"525px\" width=\"100%\"></iframe>"
      ],
      "text/plain": [
       "<plotly.tools.PlotlyDisplay object>"
      ]
     },
     "execution_count": 35,
     "metadata": {},
     "output_type": "execute_result"
    }
   ],
   "source": [
    "# suicide rates 2014\n",
    "# All: Female: 1.5, Male: 2.6\n",
    "\n",
    "labels = ['Firearm','Suffocation','Poisoning','Other']\n",
    "f_number = [2999,3296,2533,833]\n",
    "m_number = [18335,3513,8874,2391]\n",
    "\n",
    "colors = ['#01579B','#B3E5FC','#03A9F4','#B3E5FC']\n",
    "fig = {'data':[{'values':[18335,3513,8874,2391],\n",
    "               'labels':['Firearm','Suffocation','Poisoning','Other'],\n",
    "               'domain':{'x':[0,0.48]},'name':'General Male Suicide Methods',\n",
    "               'hoverinfo':'label+percent+name',\n",
    "               'hole':0.4,'type':'pie'},\n",
    "              {'values':[2999,3296,2533,833],'labels':['Firearm','Suffocation','Poisoning','Other'],'text':'Female',\n",
    "              'textposition':'inside','domain':{'x':[0.52,1]},'name':'General Female Suicide Method','hoverinfo':'label+percent\"name',\n",
    "              'hole':0.4,'type':'pie'}],\n",
    "      'layout':{'title':'General Suicide Methods','annotations':[\n",
    "            {'font':{'size':20},\n",
    "            'showarrow':False,'text':'Male','x':0.18,'y':0.5},\n",
    "            {'font':{'size':20},'showarrow':False,'text':'Female','x':0.85,'y':0.5\n",
    "            }\n",
    "        ]}}\n",
    "\n",
    "pie1 = go.Pie(labels=labels,values=m_number,textinfo='value',textfont=dict(size=10),\n",
    "             marker=dict(colors=colors, \n",
    "                           line=dict(color='black', width=2)))\n",
    "py.iplot(fig,filename='General Suicide Methods')\n"
   ]
  },
  {
   "cell_type": "code",
   "execution_count": 38,
   "metadata": {
    "collapsed": false
   },
   "outputs": [
    {
     "data": {
      "text/html": [
       "<iframe id=\"igraph\" scrolling=\"no\" style=\"border:none;\" seamless=\"seamless\" src=\"https://plot.ly/~paranyaj/32.embed\" height=\"525px\" width=\"100%\"></iframe>"
      ],
      "text/plain": [
       "<plotly.tools.PlotlyDisplay object>"
      ]
     },
     "execution_count": 38,
     "metadata": {},
     "output_type": "execute_result"
    }
   ],
   "source": [
    "\n",
    "colors = ['#01579B','#B3E5FC','#03A9F4','#B3E5FC']\n",
    "fig = {'data':[{'values':[67.9,10.2,17.2,4.7],\n",
    "               'labels':['Firearm','Suffocation','Poisoning','Other'],\n",
    "               'domain':{'x':[0,0.48]},'name':'Veteran Male Suicide Methods',\n",
    "               'hoverinfo':'label+percent+name',\n",
    "               'hole':0.4,'type':'pie'},\n",
    "              {'values':[40.5,32.3,20.2,7],'labels':['Firearm','Suffocation','Poisoning','Other'],'text':'Female',\n",
    "              'textposition':'inside','domain':{'x':[0.52,1]},'name':'Veteran Female Suicide Method','hoverinfo':'label+percent\"name',\n",
    "              'hole':0.4,'type':'pie'}],\n",
    "      'layout':{'title':'Veteran Suicide Methods','annotations':[\n",
    "            {'font':{'size':20},\n",
    "            'showarrow':False,'text':'Male','x':0.18,'y':0.5},\n",
    "            {'font':{'size':20},'showarrow':False,'text':'Female','x':0.85,'y':0.5\n",
    "            }\n",
    "        ]}}\n",
    "\n",
    "\n",
    "py.iplot(fig,filename='Veteran Suicide Methods')\n",
    "\n"
   ]
  },
  {
   "cell_type": "code",
   "execution_count": 38,
   "metadata": {
    "collapsed": false
   },
   "outputs": [
    {
     "name": "stdout",
     "output_type": "stream",
     "text": [
      "<class 'pandas.core.frame.DataFrame'>\n",
      "Int64Index: 43 entries, 0 to 50\n",
      "Data columns (total 7 columns):\n",
      "State               43 non-null object\n",
      "% by Firearm        42 non-null float64\n",
      "% by Suffocation    39 non-null float64\n",
      "% by Poisoning      32 non-null object\n",
      "Other               30 non-null object\n",
      "Total               43 non-null object\n",
      "% by Firarm All     43 non-null float64\n",
      "dtypes: float64(3), object(4)\n",
      "memory usage: 2.7+ KB\n"
     ]
    },
    {
     "data": {
      "text/html": [
       "<div>\n",
       "<style scoped>\n",
       "    .dataframe tbody tr th:only-of-type {\n",
       "        vertical-align: middle;\n",
       "    }\n",
       "\n",
       "    .dataframe tbody tr th {\n",
       "        vertical-align: top;\n",
       "    }\n",
       "\n",
       "    .dataframe thead th {\n",
       "        text-align: right;\n",
       "    }\n",
       "</style>\n",
       "<table border=\"1\" class=\"dataframe\">\n",
       "  <thead>\n",
       "    <tr style=\"text-align: right;\">\n",
       "      <th></th>\n",
       "      <th>State</th>\n",
       "      <th>% by Firearm</th>\n",
       "      <th>% by Suffocation</th>\n",
       "      <th>% by Poisoning</th>\n",
       "      <th>Other</th>\n",
       "      <th>Total</th>\n",
       "      <th>% by Firarm All</th>\n",
       "    </tr>\n",
       "  </thead>\n",
       "  <tbody>\n",
       "    <tr>\n",
       "      <th>0</th>\n",
       "      <td>Alabama</td>\n",
       "      <td>0.808</td>\n",
       "      <td>0.108</td>\n",
       "      <td>0.085</td>\n",
       "      <td>NaN</td>\n",
       "      <td>1.001</td>\n",
       "      <td>0.676</td>\n",
       "    </tr>\n",
       "    <tr>\n",
       "      <th>2</th>\n",
       "      <td>Arizona</td>\n",
       "      <td>0.730</td>\n",
       "      <td>0.143</td>\n",
       "      <td>0.14</td>\n",
       "      <td>NaN</td>\n",
       "      <td>1.013</td>\n",
       "      <td>0.554</td>\n",
       "    </tr>\n",
       "    <tr>\n",
       "      <th>3</th>\n",
       "      <td>Arkansas</td>\n",
       "      <td>0.720</td>\n",
       "      <td>0.140</td>\n",
       "      <td>0.14</td>\n",
       "      <td>NaN</td>\n",
       "      <td>1</td>\n",
       "      <td>0.627</td>\n",
       "    </tr>\n",
       "    <tr>\n",
       "      <th>4</th>\n",
       "      <td>California</td>\n",
       "      <td>0.595</td>\n",
       "      <td>0.187</td>\n",
       "      <td>0.142</td>\n",
       "      <td>0.076</td>\n",
       "      <td>1</td>\n",
       "      <td>0.378</td>\n",
       "    </tr>\n",
       "    <tr>\n",
       "      <th>5</th>\n",
       "      <td>Colorado</td>\n",
       "      <td>0.669</td>\n",
       "      <td>0.180</td>\n",
       "      <td>0.152</td>\n",
       "      <td>NaN</td>\n",
       "      <td>1.001</td>\n",
       "      <td>0.500</td>\n",
       "    </tr>\n",
       "  </tbody>\n",
       "</table>\n",
       "</div>"
      ],
      "text/plain": [
       "        State  % by Firearm  % by Suffocation % by Poisoning  Other  Total  \\\n",
       "0     Alabama         0.808             0.108          0.085    NaN  1.001   \n",
       "2     Arizona         0.730             0.143           0.14    NaN  1.013   \n",
       "3    Arkansas         0.720             0.140           0.14    NaN      1   \n",
       "4  California         0.595             0.187          0.142  0.076      1   \n",
       "5    Colorado         0.669             0.180          0.152    NaN  1.001   \n",
       "\n",
       "   % by Firarm All  \n",
       "0            0.676  \n",
       "2            0.554  \n",
       "3            0.627  \n",
       "4            0.378  \n",
       "5            0.500  "
      ]
     },
     "execution_count": 38,
     "metadata": {},
     "output_type": "execute_result"
    }
   ],
   "source": [
    "suicide_methods_all = [0.502,1-0.502] # Firearms, others\n",
    "\n",
    "suicide_methods_veterans = pd.read_excel('Methods.xlsx')\n",
    "for index, row in suicide_methods_veterans.iterrows():\n",
    "    row['% by Firearm'] = pd.to_numeric(str(row['% by Firearm']).replace('%',''),errors='coerce')\n",
    "    row['% by Suffocation'] = pd.to_numeric(str(row['% by Suffocation']).replace('%',''),errors='coerce')\n",
    "    row['% by Poisoning'] = pd.to_numeric(str(row['% by Poisoning']).replace('%',''),errors='coerce')\n",
    "suicide_methods_veterans = suicide_methods_veterans.dropna(subset=['% by Firearm'],axis=0,how='any')\n",
    "suicide_methods_veterans['% by Firearm'] = pd.to_numeric(suicide_methods_veterans['% by Firearm'],errors='coerce')\n",
    "suicide_methods_veterans.info()\n",
    "suicide_methods_veterans.head()\n"
   ]
  },
  {
   "cell_type": "code",
   "execution_count": 39,
   "metadata": {
    "collapsed": false
   },
   "outputs": [
    {
     "name": "stdout",
     "output_type": "stream",
     "text": [
      "0.14711904761904765\n"
     ]
    },
    {
     "data": {
      "text/html": [
       "<div>\n",
       "<style scoped>\n",
       "    .dataframe tbody tr th:only-of-type {\n",
       "        vertical-align: middle;\n",
       "    }\n",
       "\n",
       "    .dataframe tbody tr th {\n",
       "        vertical-align: top;\n",
       "    }\n",
       "\n",
       "    .dataframe thead th {\n",
       "        text-align: right;\n",
       "    }\n",
       "</style>\n",
       "<table border=\"1\" class=\"dataframe\">\n",
       "  <thead>\n",
       "    <tr style=\"text-align: right;\">\n",
       "      <th></th>\n",
       "      <th>% by Firearm</th>\n",
       "      <th>% by Firarm All</th>\n",
       "    </tr>\n",
       "  </thead>\n",
       "  <tbody>\n",
       "    <tr>\n",
       "      <th>0</th>\n",
       "      <td>0.808</td>\n",
       "      <td>0.676</td>\n",
       "    </tr>\n",
       "    <tr>\n",
       "      <th>2</th>\n",
       "      <td>0.730</td>\n",
       "      <td>0.554</td>\n",
       "    </tr>\n",
       "    <tr>\n",
       "      <th>3</th>\n",
       "      <td>0.720</td>\n",
       "      <td>0.627</td>\n",
       "    </tr>\n",
       "    <tr>\n",
       "      <th>4</th>\n",
       "      <td>0.595</td>\n",
       "      <td>0.378</td>\n",
       "    </tr>\n",
       "    <tr>\n",
       "      <th>5</th>\n",
       "      <td>0.669</td>\n",
       "      <td>0.500</td>\n",
       "    </tr>\n",
       "  </tbody>\n",
       "</table>\n",
       "</div>"
      ],
      "text/plain": [
       "   % by Firearm  % by Firarm All\n",
       "0         0.808            0.676\n",
       "2         0.730            0.554\n",
       "3         0.720            0.627\n",
       "4         0.595            0.378\n",
       "5         0.669            0.500"
      ]
     },
     "execution_count": 39,
     "metadata": {},
     "output_type": "execute_result"
    }
   ],
   "source": [
    "diff_mean = np.mean(suicide_methods_veterans['% by Firearm']-suicide_methods_veterans['% by Firarm All'])\n",
    "print(diff_mean)\n",
    "suicide_methods_veterans[['% by Firearm','% by Firarm All']].head()                  "
   ]
  },
  {
   "cell_type": "markdown",
   "metadata": {},
   "source": [
    "The average percentage of veterans using firearm for suicide is 14.7% higher than the percentage for the general population."
   ]
  },
  {
   "cell_type": "markdown",
   "metadata": {
    "collapsed": true
   },
   "source": [
    "### Difference in means test for firearm use across states"
   ]
  },
  {
   "cell_type": "code",
   "execution_count": 40,
   "metadata": {
    "collapsed": false
   },
   "outputs": [
    {
     "data": {
      "text/plain": [
       "6.975850676468974"
      ]
     },
     "execution_count": 40,
     "metadata": {},
     "output_type": "execute_result"
    }
   ],
   "source": [
    "# H0= mean veteran <= mean general\n",
    "mean_firearm_vet = np.mean(suicide_methods_veterans['% by Firearm'])\n",
    "mean_firearm_all = np.mean(suicide_methods_veterans['% by Firarm All'])\n",
    "n_vet = len(suicide_methods_veterans['% by Firearm'])\n",
    "n_all = len(suicide_methods_veterans['% by Firarm All'])\n",
    "var_vet = suicide_methods_veterans['% by Firearm'].var()\n",
    "var_all = suicide_methods_veterans['% by Firarm All'].var()\n",
    "diff_firearm = mean_firearm_vet-mean_firearm_all\n",
    "\n",
    "mean_firearm_vet\n",
    "mean_firearm_all\n",
    "\n",
    "# Critical calues = 1.645\n",
    "z_star = diff_firearm/(var_vet/n_vet+var_all/n_all)**(1/2)\n",
    "z_star"
   ]
  },
  {
   "cell_type": "markdown",
   "metadata": {},
   "source": [
    "z-score = 6.965 > critical value 1.645 -> reject null hypothesis in favor of alternative. The mean percentage of veterans using firearm as suicide methods across states is significantly greater than that of the general population (5% significance level)."
   ]
  },
  {
   "cell_type": "markdown",
   "metadata": {},
   "source": [
    "### Analyzing PTSD"
   ]
  },
  {
   "cell_type": "code",
   "execution_count": 60,
   "metadata": {
    "collapsed": false
   },
   "outputs": [
    {
     "data": {
      "text/html": [
       "<iframe id=\"igraph\" scrolling=\"no\" style=\"border:none;\" seamless=\"seamless\" src=\"https://plot.ly/~paranyaj/20.embed\" height=\"525px\" width=\"100%\"></iframe>"
      ],
      "text/plain": [
       "<plotly.tools.PlotlyDisplay object>"
      ]
     },
     "execution_count": 60,
     "metadata": {},
     "output_type": "execute_result"
    }
   ],
   "source": [
    "ptsd = pd.read_excel('PTSD Data.xlsx',sheet_name=2)\n",
    "ptsd = ptsd.rename(columns={'State':'state'})\n",
    "ptsd = ptsd.merge(suicide_rate[['state','total_vet']],on='state')\n",
    "ptsd.head()\n",
    "\n",
    "ptsd_plot = go.Scatter(x=ptsd['PTSD rate'],\n",
    "          y = ptsd['total_vet'],\n",
    "          mode = 'markers',\n",
    "                       name = 'Rural',\n",
    "                       text=ptsd['state'],\n",
    "                       \n",
    "          marker = dict(size=10,color='rgba(178,34,34,0.8)',line=dict(width=2,color='black')))\n",
    "layout = dict(title='Percentage of PTSD vs. Suicide Rate',\n",
    "             yaxis=dict(title='Suicide Rate'),\n",
    "             xaxis = dict(title='Percentage of Veterans with PTSD'))\n",
    "fig = dict(data=[ptsd_plot],layout=layout)\n",
    "py.iplot(fig, filename='PTSD')"
   ]
  },
  {
   "cell_type": "code",
   "execution_count": 45,
   "metadata": {
    "collapsed": false
   },
   "outputs": [
    {
     "data": {
      "text/plain": [
       "Total veterans                        -0.241760\n",
       "N with PTSD                           -0.234244\n",
       "PTSD rate                             -0.078026\n",
       "Average psych stops for PTSD dx >=1   -0.207707\n",
       "Weighted average                      -0.217865\n",
       "Average stops for substance abuse     -0.260942\n",
       "total_vet                              1.000000\n",
       "Name: total_vet, dtype: float64"
      ]
     },
     "execution_count": 45,
     "metadata": {},
     "output_type": "execute_result"
    }
   ],
   "source": [
    "ptsd.corr()['total_vet']"
   ]
  },
  {
   "cell_type": "markdown",
   "metadata": {},
   "source": [
    "There does not seem to be any significant correlation ebtween PTSD rates and suicide rate."
   ]
  },
  {
   "cell_type": "markdown",
   "metadata": {},
   "source": [
    "### Looking at Correlation between Unemployment Rate and Suicide Rate"
   ]
  },
  {
   "cell_type": "code",
   "execution_count": 59,
   "metadata": {
    "collapsed": false
   },
   "outputs": [
    {
     "data": {
      "text/html": [
       "<div>\n",
       "<style scoped>\n",
       "    .dataframe tbody tr th:only-of-type {\n",
       "        vertical-align: middle;\n",
       "    }\n",
       "\n",
       "    .dataframe tbody tr th {\n",
       "        vertical-align: top;\n",
       "    }\n",
       "\n",
       "    .dataframe thead th {\n",
       "        text-align: right;\n",
       "    }\n",
       "</style>\n",
       "<table border=\"1\" class=\"dataframe\">\n",
       "  <thead>\n",
       "    <tr style=\"text-align: right;\">\n",
       "      <th></th>\n",
       "      <th>Unemployed</th>\n",
       "      <th>total_vet</th>\n",
       "    </tr>\n",
       "  </thead>\n",
       "  <tbody>\n",
       "    <tr>\n",
       "      <th>Unemployed</th>\n",
       "      <td>1.000000</td>\n",
       "      <td>-0.186603</td>\n",
       "    </tr>\n",
       "    <tr>\n",
       "      <th>total_vet</th>\n",
       "      <td>-0.186603</td>\n",
       "      <td>1.000000</td>\n",
       "    </tr>\n",
       "  </tbody>\n",
       "</table>\n",
       "</div>"
      ],
      "text/plain": [
       "            Unemployed  total_vet\n",
       "Unemployed    1.000000  -0.186603\n",
       "total_vet    -0.186603   1.000000"
      ]
     },
     "execution_count": 59,
     "metadata": {},
     "output_type": "execute_result"
    }
   ],
   "source": [
    "unemp = pd.read_excel('UnemploymentPercent.xlsx')\n",
    "unemp = unemp[4:]\n",
    "unemp = unemp.rename(columns={'State':'state'})\n",
    "unemp = unemp.merge(suicide_rate[['state','total_vet']],how='inner',on='state')\n",
    "unemp = unemp.drop('Unnamed: 2',axis=1)\n",
    "unemp['Unemployed']=pd.to_numeric(unemp['Unemployed'],errors='coerce')\n",
    "unemp.corr()"
   ]
  },
  {
   "cell_type": "code",
   "execution_count": 63,
   "metadata": {
    "collapsed": false,
    "scrolled": true
   },
   "outputs": [
    {
     "data": {
      "text/plain": [
       "Buddhist              0.067409\n",
       "Catholic             -0.187838\n",
       "Eastern Orthodox     -0.214812\n",
       "Ethiopian Orthodox    0.296098\n",
       "Greek Orthodox       -0.426281\n",
       "Hindu                 0.046811\n",
       "Jewish               -0.113925\n",
       "Luteran               0.220763\n",
       "Mormon                0.302671\n",
       "Muslim                0.097471\n",
       "Protestant            0.025294\n",
       "Shinto               -0.132578\n",
       "Sikh                  0.203377\n",
       "Unknown              -0.293390\n",
       "total_vet             1.000000\n",
       "vet_pop              -0.323437\n",
       "Non-Catholic          0.187838\n",
       "Name: total_vet, dtype: float64"
      ]
     },
     "execution_count": 63,
     "metadata": {},
     "output_type": "execute_result"
    }
   ],
   "source": [
    "religion = pd.read_excel('religion.xlsx')\n",
    "cols = ['Buddhist','Catholic','Eastern Orthodox','Ethiopian Orthodox','Greek Orthodox','Hindu','Jewish','Luteran','Mormon','Muslim','Protestant','Shinto','Sikh']\n",
    "for col in cols:\n",
    "    religion[col] = pd.to_numeric(religion[col],errors='coerce')\n",
    "    religion[col] = religion[col]/religion['vet_pop']\n",
    "\n",
    "religion['Non-Catholic'] = 1-religion['Catholic']\n",
    "religion = religion[:-1]\n",
    "religion.tail()\n",
    "religion.corr()['total_vet']\n"
   ]
  },
  {
   "cell_type": "code",
   "execution_count": 64,
   "metadata": {
    "collapsed": false
   },
   "outputs": [
    {
     "data": {
      "text/html": [
       "<iframe id=\"igraph\" scrolling=\"no\" style=\"border:none;\" seamless=\"seamless\" src=\"https://plot.ly/~paranyaj/18.embed\" height=\"525px\" width=\"100%\"></iframe>"
      ],
      "text/plain": [
       "<plotly.tools.PlotlyDisplay object>"
      ]
     },
     "execution_count": 64,
     "metadata": {},
     "output_type": "execute_result"
    }
   ],
   "source": [
    "religion = go.Scatter(x=religion['Catholic'],\n",
    "          y = religion['total_vet'],\n",
    "          mode = 'markers',\n",
    "                       name = 'Rural',\n",
    "                       text=religion['State'],\n",
    "                       \n",
    "          marker = dict(size=10,color='rgba(178,34,34,0.8)',line=dict(width=2,color='black')))\n",
    "layout = dict(title='Percentage of Catholics vs. Suicide Rate',\n",
    "             yaxis=dict(title='Suicide Rate'),\n",
    "             xaxis = dict(title='Percentage of Catholics'))\n",
    "fig = dict(data=[religion],layout=layout)\n",
    "py.iplot(fig, filename='religion')"
   ]
  }
 ],
 "metadata": {
  "anaconda-cloud": {},
  "kernelspec": {
   "display_name": "Python [anaconda]",
   "language": "python",
   "name": "Python [anaconda]"
  },
  "language_info": {
   "codemirror_mode": {
    "name": "ipython",
    "version": 3
   },
   "file_extension": ".py",
   "mimetype": "text/x-python",
   "name": "python",
   "nbconvert_exporter": "python",
   "pygments_lexer": "ipython3",
   "version": "3.5.4"
  }
 },
 "nbformat": 4,
 "nbformat_minor": 0
}
